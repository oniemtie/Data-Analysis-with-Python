{
 "cells": [
  {
   "cell_type": "markdown",
   "id": "d12e1e6b",
   "metadata": {},
   "source": [
    "\n",
    "# Peer-graded Assignment: Submit Your Work and Grade Your Peers\n",
    "\n",
    "\n",
    "\n",
    "This course introduced you to multiple data science tools, and in this final project, you will use Jupyterlite Notebook, one of the easiest tools to share publicly. \n",
    "\n",
    "Leveraging Jupyterlite Notebook on Skills Network labs, you will create your Jupyterlite Notebook (in English) and share it via a public GitHub link.\n",
    "\n",
    "There are a total of 25 points possible for this final project.\n",
    "\n",
    "Your grade will be based on the following Exercises:\n",
    "\n",
    "Exercise 2 - Create a markdown cell with the title of the notebook. (1 pt)\n",
    "\n",
    "Exercise 3 - Create a markdown cell for an introduction. (1 pt)\n",
    "\n",
    "Exercise 4 - Create a markdown cell to list data science languages. (3 pts)\n",
    "\n",
    "Exercise 5 - Create a markdown cell to list data science libraries. (3 pts)\n",
    "\n",
    "Exercise 6 - Create a markdown cell with a table of Data Science tools. (3 pts)\n",
    "\n",
    "Exercise 7 - Create a markdown cell introducing arithmetic expression examples. (1 pt)\n",
    "\n",
    "Exercise 8 - Create a code cell to multiply and add numbers. (2 pts)\n",
    "\n",
    "Exercise 9 - Create a code cell to convert minutes to hours. (2 pts)\n",
    "\n",
    "Exercise 10 -Insert a markdown cell to list Objectives. (3 pts)\n",
    "\n",
    "Exercise 11 - Create a markdown cell to indicate the Author’s name. (2 pts)\n",
    "\n",
    "Exercise 12 - Share your notebook through GitHub (3 pts)\n",
    "\n",
    "Exercise 13 - Take a screenshot of the first page of the notebook. (1 pt)\n",
    "\n",
    "The main grading criteria will be:\n",
    "\n",
    "Is the notebook publicly viewable?\n",
    "\n",
    "Are there, or do there appear to be, at least 8 Markdown cells and 2 code cells? \n",
    "\n",
    "Are the criteria for each cell fulfilled, as described in the \"Guidelines for Submission\"?\n",
    "\n",
    "You will not be judged on:\n",
    "\n",
    "Your English language, including spelling or grammatical mistakes."
   ]
  },
  {
   "cell_type": "markdown",
   "id": "ac1f58de",
   "metadata": {},
   "source": [
    "### Exercise 2 - Create a markdown cell with the title of the notebook. (1 pt)\n",
    "\n",
    "####  Jupyterlite Notebook"
   ]
  },
  {
   "cell_type": "markdown",
   "id": "09b0056e",
   "metadata": {},
   "source": [
    "### Exercise 3 - Create a markdown cell for an introduction. (1 pt)\n",
    "\n",
    "\n",
    "#### Introduction\n",
    "\n",
    "This notebook covers fundamental concepts and tools in data science. It includes an overview of popular languages, libraries, and tools used in the field, as well as examples of basic arithmetic operations and data manipulations.\n"
   ]
  },
  {
   "cell_type": "markdown",
   "id": "0fd2b364",
   "metadata": {},
   "source": [
    "### Exercise 4 - Create a markdown cell to list data science languages. (3 pts)\n",
    "\n",
    "1. Python\n",
    "2. R\n",
    "3. SQL\n",
    "4. Java\n",
    "5. Julia\n",
    "6. Scala\n",
    "7. C/C++\n",
    "8. JavaScript"
   ]
  },
  {
   "cell_type": "markdown",
   "id": "b9538be6",
   "metadata": {},
   "source": [
    "### Exercise 5 - Create a markdown cell to list data science libraries. (3 pts)\n",
    "\n",
    "1. NumPy\n",
    "2. Pandas\n",
    "3. Matplotlib\n",
    "4. SciPy\n",
    "5. Scikit-learn\n",
    "6. TensorFlow\n",
    "7. Keras"
   ]
  },
  {
   "cell_type": "markdown",
   "id": "68983f1f",
   "metadata": {},
   "source": [
    "### Exercise 6 - Create a markdown cell with a table of Data Science tools. (3 pts)\n",
    "| Jupyter      | Interactive computing environment                |\n",
    "| RStudio      | Integrated development environment for R         |\n",
    "| Apache Spark | Unified analytics engine for big data processing |\n",
    "| TensorFlow   | Open-source machine learning framework           |\n",
    "| Tableau      | Data visualization software     \n"
   ]
  },
  {
   "cell_type": "markdown",
   "id": "6be54a65",
   "metadata": {},
   "source": [
    "### Exercise 7 - Create a markdown cell introducing arithmetic expression examples. (1 pt)\n",
    "\n",
    "#### Arithmetic operations"
   ]
  },
  {
   "cell_type": "code",
   "execution_count": 3,
   "id": "d6ae38b1",
   "metadata": {},
   "outputs": [
    {
     "data": {
      "text/plain": [
       "9"
      ]
     },
     "execution_count": 3,
     "metadata": {},
     "output_type": "execute_result"
    }
   ],
   "source": [
    "\n",
    "code = compile(\"5 + 4\", \"<string>\", \"eval\")\n",
    "eval(code)\n",
    "# Result: 9"
   ]
  },
  {
   "cell_type": "markdown",
   "id": "1c1a3677",
   "metadata": {},
   "source": [
    "### Exercise 8 - Create a code cell to multiply and add numbers. (2 pts)"
   ]
  },
  {
   "cell_type": "code",
   "execution_count": 4,
   "id": "1b3dd916",
   "metadata": {},
   "outputs": [
    {
     "data": {
      "text/plain": [
       "18"
      ]
     },
     "execution_count": 4,
     "metadata": {},
     "output_type": "execute_result"
    }
   ],
   "source": [
    "# Code to multiply and add numbers\n",
    "a = 5\n",
    "b = 3\n",
    "result = a * b + b\n",
    "result\n"
   ]
  },
  {
   "cell_type": "markdown",
   "id": "5f13991c",
   "metadata": {},
   "source": [
    "### Exercise 9 - Create a code cell to convert minutes to hours. (2 pts)"
   ]
  },
  {
   "cell_type": "code",
   "execution_count": 6,
   "id": "d3474454",
   "metadata": {},
   "outputs": [
    {
     "data": {
      "text/plain": [
       "2.5"
      ]
     },
     "execution_count": 6,
     "metadata": {},
     "output_type": "execute_result"
    }
   ],
   "source": [
    "# Code to convert minutes to hours\n",
    "minutes = 150\n",
    "hours = minutes / 60\n",
    "hours"
   ]
  },
  {
   "cell_type": "markdown",
   "id": "77c7045b",
   "metadata": {},
   "source": [
    "### Exercise 10 -Insert a markdown cell to list Objectives. (3 pts)"
   ]
  },
  {
   "cell_type": "markdown",
   "id": "a326ccd6",
   "metadata": {},
   "source": [
    "- Understand the fundamental concepts of data science.\n",
    "- Learn about the popular languages and libraries used in data science.\n",
    "- Explore various data science tools and their uses.\n",
    "- Practice basic arithmetic operations and data manipulation techniques.\n"
   ]
  },
  {
   "cell_type": "markdown",
   "id": "35bdeafd",
   "metadata": {},
   "source": [
    "### Exercise 11 - Create a markdown cell to indicate the Author’s name. (2 pts)"
   ]
  },
  {
   "cell_type": "markdown",
   "id": "c7ebf951",
   "metadata": {},
   "source": [
    "## Author:\n",
    "Billie Ocean"
   ]
  },
  {
   "cell_type": "markdown",
   "id": "4e489260",
   "metadata": {},
   "source": [
    "### Exercise 12 - Share your notebook through GitHub (3 pts)\n",
    "\n",
    "Link provided."
   ]
  },
  {
   "cell_type": "markdown",
   "id": "a3791472",
   "metadata": {},
   "source": [
    "### Exercise 13 - Take a screenshot of the first page of the notebook. (1 pt)\n",
    "\n",
    "Done"
   ]
  }
 ],
 "metadata": {
  "kernelspec": {
   "display_name": "Python 3 (ipykernel)",
   "language": "python",
   "name": "python3"
  },
  "language_info": {
   "codemirror_mode": {
    "name": "ipython",
    "version": 3
   },
   "file_extension": ".py",
   "mimetype": "text/x-python",
   "name": "python",
   "nbconvert_exporter": "python",
   "pygments_lexer": "ipython3",
   "version": "3.11.5"
  }
 },
 "nbformat": 4,
 "nbformat_minor": 5
}
